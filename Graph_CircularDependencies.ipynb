{
  "nbformat": 4,
  "nbformat_minor": 0,
  "metadata": {
    "colab": {
      "name": "Graph_CircularDependencies.ipynb",
      "provenance": []
    },
    "kernelspec": {
      "name": "python3",
      "display_name": "Python 3"
    },
    "language_info": {
      "name": "python"
    }
  },
  "cells": [
    {
      "cell_type": "code",
      "metadata": {
        "id": "YUDrpwEZpfW1"
      },
      "source": [
        "import numpy as np\n",
        "from collections import defaultdict\n"
      ],
      "execution_count": 1,
      "outputs": []
    },
    {
      "cell_type": "code",
      "metadata": {
        "id": "ylgE9hV1pMfF"
      },
      "source": [
        "class Graph():\n",
        "\n",
        "  def __init__(self,vertices):\n",
        "    self.graph=defaultdict(list)\n",
        "    self.vertices=vertices\n",
        "\n",
        "  def add_edge(self,parent,child):\n",
        "    self.graph[parent].append(child)\n",
        "\n",
        "  def print_utils(self,root):\n",
        "    self.cache[root]=True\n",
        "    print(root,end='-->')\n",
        "    for v in self.graph[root]:\n",
        "      if not self.cache[v]:\n",
        "        self.printutils(v)\n",
        "    return\n",
        "\n",
        "  def dfs_print(self):\n",
        "    self.cache=[False]*self.vertices\n",
        "    first=list(self.graph.keys())[0]\n",
        "    self.print_utils(first)\n",
        "    return\n",
        "  \n",
        "  def detect_cyclicity(self):\n",
        "    self.visited=[False]*self.vertices\n",
        "    self.re_visited=[False]*self.vertices\n",
        "    first=list(self.graph.keys())[0]\n",
        "    return self.cyclicity_utils_undirected()\n",
        "\n",
        "    return\n",
        "  \n",
        "  # def cyclicity_utils_undirected(self,root):\n",
        "  #   self.visited[root]=True\n",
        "  #   for neighbour in self.graph[root]:\n",
        "  #     if self.visited[neighbour]:\n",
        "  #       return True\n",
        "  #     else:\n",
        "  #       self.cyclicity_utils_undirected(neighbour)\n",
        "  #   return False\n",
        "\n",
        "\n",
        "      \n",
        "\n",
        "\n",
        "\n",
        "  \n",
        "\n",
        "\n",
        "\n",
        "\n",
        "\n",
        "\n",
        "    \n",
        "  \n",
        "  # def circular_graph(self,):\n",
        "\n"
      ],
      "execution_count": 23,
      "outputs": []
    },
    {
      "cell_type": "code",
      "metadata": {
        "id": "yCBun6OEpkXI"
      },
      "source": [
        "g = Graph(6)\n",
        "g.add_edge(0, 1)\n",
        "g.add_edge(0, 2)\n",
        "g.add_edge(1, 2)\n",
        "g.add_edge(2, 0)\n",
        "g.add_edge(2, 3)\n",
        "g.add_edge(3, 3)\n",
        "g.add_edge(3, 4)\n",
        "g.add_edge(4, 5)\n",
        "g.add_edge(5, 1)"
      ],
      "execution_count": 26,
      "outputs": []
    },
    {
      "cell_type": "code",
      "metadata": {
        "colab": {
          "base_uri": "https://localhost:8080/"
        },
        "id": "L8xL_yMmyq7m",
        "outputId": "c0f2540e-a1e6-4e88-c413-f1fd555bbfff"
      },
      "source": [
        "g.dfs_print()"
      ],
      "execution_count": 27,
      "outputs": [
        {
          "output_type": "stream",
          "name": "stdout",
          "text": [
            "0-->1-->2-->3-->4-->5-->"
          ]
        }
      ]
    },
    {
      "cell_type": "code",
      "metadata": {
        "id": "Fgzgw6aVy1iI"
      },
      "source": [
        "class undirected_graph():\n",
        "\n",
        "  def __init__(self,vertices):\n",
        "    self.graph=defaultdict(list)\n",
        "    self.vertices=vertices\n",
        "\n",
        "  def add_edge(self,parent,child):\n",
        "    '''\n",
        "    The connection has to be bi-directional\n",
        "    '''\n",
        "    self.graph[parent].append(child)\n",
        "    self.graph[child].append(parent)\n",
        "\n",
        "  def print_utils(self,root):\n",
        "    self.cache[root]=True\n",
        "    print(root,end='-->')\n",
        "    for v in self.graph[root]:\n",
        "      if not self.cache[v]:\n",
        "        self.print_utils(v)\n",
        "    return\n",
        "\n",
        "  def dfs_print(self):\n",
        "    self.cache=[False]*self.vertices\n",
        "    first=list(self.graph.keys())[0]\n",
        "    self.print_utils(first)\n",
        "    return \n",
        "\n",
        "  def predict_cyclicity(self):\n",
        "    self.visited=[False]*self.vertices\n",
        "    first=list(self.graph.keys())[0]\n",
        "    if self.cyclicity_utils(first,None):\n",
        "      print('cyclicity present')\n",
        "    else:\n",
        "      print('acyclic graph')\n",
        "\n",
        "  def cyclicity_utils(self,root,parent):\n",
        "    '''\n",
        "    if  any neighbour is visited before \n",
        "      chk for self visit (self graphs ), or whether the reference is to adjacent neighbour from where we are coming 1---2---3 (3 can poibt towards 2 but we are arriving from 2)\n",
        "        if not return True\n",
        "    if not recursively call function on adjacent neigbours\n",
        "    '''\n",
        "\n",
        "    self.visited[root]=True\n",
        "    for n in self.graph[root]:\n",
        "      if self.visited[n]==False:\n",
        "        if self.cyclicity_utils(n,root)==True:\n",
        "          print('1',n)\n",
        "          return True\n",
        "      else:\n",
        "        if n!=parent:\n",
        "          return True\n",
        "    return False\n",
        "        \n",
        "      \n",
        "\n",
        "\n",
        "\n",
        "\n",
        "\n",
        "\n",
        "\n",
        "\n",
        "  \n"
      ],
      "execution_count": 68,
      "outputs": []
    },
    {
      "cell_type": "code",
      "metadata": {
        "id": "43kAUbalCg9_"
      },
      "source": [
        "g = undirected_graph(3)\n",
        "g.add_edge(0, 1)\n",
        "g.add_edge(1,2)\n",
        "# g.add_edge(1,3)\n"
      ],
      "execution_count": 65,
      "outputs": []
    },
    {
      "cell_type": "code",
      "metadata": {
        "colab": {
          "base_uri": "https://localhost:8080/"
        },
        "id": "fUfJX0JfCmHq",
        "outputId": "d7ed86f9-396e-49d2-d4de-ca9b986f91db"
      },
      "source": [
        "g.dfs_print()"
      ],
      "execution_count": 66,
      "outputs": [
        {
          "output_type": "stream",
          "name": "stdout",
          "text": [
            "0-->1-->2-->"
          ]
        }
      ]
    },
    {
      "cell_type": "code",
      "metadata": {
        "colab": {
          "base_uri": "https://localhost:8080/"
        },
        "id": "ovtKMRLUCpt2",
        "outputId": "f859d153-2c88-4eaa-f12a-c5a9ed8cc653"
      },
      "source": [
        "g.predict_cyclicity()"
      ],
      "execution_count": 67,
      "outputs": [
        {
          "output_type": "stream",
          "name": "stdout",
          "text": [
            "not found\n",
            "not found\n",
            "not found\n",
            "acyclic graph\n"
          ]
        }
      ]
    },
    {
      "cell_type": "code",
      "metadata": {
        "colab": {
          "base_uri": "https://localhost:8080/"
        },
        "id": "IOu0x-KiFaPC",
        "outputId": "7ff7fcde-b83b-4d54-f37d-16a82d43fec6"
      },
      "source": [
        "g.visited"
      ],
      "execution_count": 55,
      "outputs": [
        {
          "output_type": "execute_result",
          "data": {
            "text/plain": [
              "[True, True, False]"
            ]
          },
          "metadata": {},
          "execution_count": 55
        }
      ]
    },
    {
      "cell_type": "code",
      "metadata": {
        "id": "q2BvAwyNH1V9"
      },
      "source": [
        ""
      ],
      "execution_count": null,
      "outputs": []
    }
  ]
}